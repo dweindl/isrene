{
 "cells": [
  {
   "cell_type": "markdown",
   "metadata": {
    "collapsed": true
   },
   "source": [
    "# Example state transfer\n",
    "\n",
    "**Objective:** Create a model of `A(➊➋➌) <-> B(➊➋) + C(➌) <-> A(➌➊➋)` demonstrating state transfer and network expansion.\n",
    "\n",
    "In the following, we will create a model of stable isotope labeling in a simple reaction network, demonstrate how to encode atom mappings, and how to create observables.\n",
    "\n",
    "\n",
    "## Model definition"
   ]
  },
  {
   "cell_type": "code",
   "execution_count": null,
   "metadata": {},
   "outputs": [],
   "source": [
    "from isrene import ureg, Q_\n",
    "from isrene.model_definition import *\n",
    "from isrene.model_definition.model_export_sbml import ModelExporterSbmlMulti\n",
    "from isrene.sbml_multi.sbml_multi_expand import NetworkGenerator\n",
    "\n",
    "import matplotlib.pyplot as plt\n",
    "from pprint import pprint\n",
    "import numpy as np"
   ]
  },
  {
   "cell_type": "code",
   "execution_count": null,
   "metadata": {},
   "outputs": [],
   "source": [
    "model = Model(\"example_state_transfer\")\n",
    "\n",
    "compartment = Compartment(\"c\", ureg.Quantity(1, ureg.mL), model=model)\n",
    "\n",
    "# species types\n",
    "# Metabolites that can be labeled (second argument is the number of labelable sites)\n",
    "A = Metabolite(\"A\", 3, model=model)\n",
    "B = Metabolite(\"B\", 2, model=model)\n",
    "C = Metabolite(\"C\", 1, model=model)\n",
    "# Enzyme (not labeled)\n",
    "E = Enzyme(\"E\", name=\"enzyme\", model=model)\n",
    "\n",
    "# Reactions\n",
    "# modular rate law version\n",
    "mrl_version = \"hal\"\n",
    "# A(➊➋➌) <-> B(➊➋) + C(➌)\n",
    "AtomMappingReaction(\n",
    "    \"R1\",\n",
    "    [(A(compartment=compartment), \"abc\")],\n",
    "    [(B(compartment=compartment), \"ab\"), (C(compartment=compartment), \"c\")],\n",
    "    reversible=True,\n",
    "    enzyme=E(compartment=compartment),\n",
    "    rate_law_generator=ModularRateLawGenerator(version=mrl_version),\n",
    ")\n",
    "# B(➊➋) + C(➌) <-> A(➌➊➋)\n",
    "AtomMappingReaction(\n",
    "    \"R2\",\n",
    "    [(B(compartment=compartment), \"ab\"), (C(compartment=compartment), \"c\")],\n",
    "    [(A(compartment=compartment), \"cab\")],\n",
    "    reversible=True,\n",
    "    enzyme=E(compartment=compartment),\n",
    "    rate_law_generator=ModularRateLawGenerator(version=mrl_version),\n",
    ")\n",
    "\n",
    "# Initial concentrations\n",
    "# A(⚫⚫⚫)\n",
    "InitialConcentration(\n",
    "    A.labeled(compartment=compartment), ureg.Quantity(1.0, ureg.mM)\n",
    ")\n",
    "# B(⚪⚪)\n",
    "InitialConcentration(\n",
    "    B.unlabeled(compartment=compartment), ureg.Quantity(1.0, ureg.mM)\n",
    ")\n",
    "# C(⚪)\n",
    "InitialConcentration(\n",
    "    C.unlabeled(compartment=compartment), ureg.Quantity(0.0, ureg.mM)\n",
    ")\n",
    "# E()\n",
    "InitialConcentration(\n",
    "    E(compartment=compartment), Q_(1, model.concentration_unit)\n",
    ")\n",
    "\n",
    "# Assume we can observe labeling in `C`\n",
    "# .. and have raw mass spec intensities\n",
    "RawMdvObservable(\n",
    "    A, compartments=[compartment], sum_formula=\"C6H12O3NSi\", model=model\n",
    ")\n",
    "# .. or our measurements are already corrected for natural isotope abundance\n",
    "MdvObservable(A, compartments=[compartment], model=model);"
   ]
  },
  {
   "cell_type": "code",
   "execution_count": null,
   "metadata": {},
   "outputs": [],
   "source": [
    "# show what's inside the model\n",
    "model.print()"
   ]
  },
  {
   "cell_type": "markdown",
   "metadata": {},
   "source": [
    "## Write model to SBML multi and expand to SBML core"
   ]
  },
  {
   "cell_type": "code",
   "execution_count": null,
   "metadata": {},
   "outputs": [],
   "source": [
    "# write SBML multi\n",
    "multi_file = f\"tmp/{model.id}_multi.xml\"\n",
    "exporter = ModelExporterSbmlMulti(model)\n",
    "exporter.export(multi_file)\n",
    "\n",
    "# expand network and save SBML core model\n",
    "core_model_name = f\"tmp/{model.id}_core.xml\"\n",
    "nwg = NetworkGenerator(model=multi_file)\n",
    "nwg.create_sbml_core_model(core_model_name)"
   ]
  },
  {
   "cell_type": "markdown",
   "metadata": {},
   "source": [
    "Let's look at the generated model. All relevant isotoplogue species and reactions have been generated:"
   ]
  },
  {
   "cell_type": "code",
   "execution_count": null,
   "metadata": {},
   "outputs": [],
   "source": [
    "import libsbml\n",
    "import re\n",
    "\n",
    "# load generated SBML-core model\n",
    "sbml_reader = libsbml.SBMLReader()\n",
    "sbml_doc = sbml_reader.readSBML(core_model_name)\n",
    "sbml_model = sbml_doc.getModel()\n",
    "\n",
    "\n",
    "def pretty_species(species_id) -> str:\n",
    "    \"\"\"Format species names nicely\"\"\"\n",
    "    res = re.sub(r\"_C\\d_l\", \"⚫\", re.sub(r\"_C\\d_u\", \"⚪\", species_id))\n",
    "    if res.endswith(\"_X__\"):\n",
    "        return res.replace(\"_X__\", \")\").replace(\"_c\", \"(\")\n",
    "    return res\n",
    "\n",
    "\n",
    "print(\"⚪ unlabeled (12C)\")\n",
    "print(\"⚫ labeled   (13C)\")\n",
    "print()\n",
    "\n",
    "print(\"Species:\")\n",
    "for species in sorted(s.getId() for s in sbml_model.getListOfSpecies()):\n",
    "    print(f\"{pretty_species(species).ljust(10)} ({species})\")\n",
    "\n",
    "\n",
    "print(\"\\nReactions:\")\n",
    "for reaction in sbml_model.getListOfReactions():\n",
    "    reactants = \" + \".join(\n",
    "        [\n",
    "            \"%s %s\"\n",
    "            % (\n",
    "                int(r.getStoichiometry()) if r.getStoichiometry() > 1 else \"\",\n",
    "                pretty_species(r.getSpecies()),\n",
    "            )\n",
    "            for r in reaction.getListOfReactants()\n",
    "        ]\n",
    "    )\n",
    "    products = \" + \".join(\n",
    "        [\n",
    "            \"%s %s\"\n",
    "            % (\n",
    "                int(r.getStoichiometry()) if r.getStoichiometry() > 1 else \"\",\n",
    "                pretty_species(r.getSpecies()),\n",
    "            )\n",
    "            for r in reaction.getListOfProducts()\n",
    "        ]\n",
    "    )\n",
    "    reversible = \"<\" if reaction.getReversible() else \"\"\n",
    "    \"\"\"\n",
    "    print(\n",
    "        '%3s: %10s %1s->%10s\\t\\t[%s]' % (\n",
    "            reaction.getId(),\n",
    "            reactants,\n",
    "            reversible,\n",
    "            products,\n",
    "            libsbml.formulaToL3String(reaction.getKineticLaw().getMath())\n",
    "        )\n",
    "    )\n",
    "    \"\"\"\n",
    "    print(\n",
    "        \"  %3s: %10s %1s->%10s\"\n",
    "        % (\n",
    "            reaction.getId(),\n",
    "            reactants,\n",
    "            reversible,\n",
    "            products,\n",
    "        )\n",
    "    )"
   ]
  },
  {
   "cell_type": "markdown",
   "metadata": {},
   "source": [
    "Also the rate expression have been adapted to the individual isotopologue reactions:"
   ]
  },
  {
   "cell_type": "code",
   "execution_count": null,
   "metadata": {},
   "outputs": [],
   "source": [
    "import sympy as sp\n",
    "\n",
    "sp.init_printing()\n",
    "from sbmlmath import sbml_math_to_sympy\n",
    "\n",
    "print(\"\\nRate expressions:\")\n",
    "for reaction in sbml_model.getListOfReactions():\n",
    "    print(reaction.getId())\n",
    "    # sp.pprint(sbml_math_to_sympy(reaction.getKineticLaw().getMath()))\n",
    "    print(\"   \", libsbml.formulaToL3String(reaction.getKineticLaw().getMath()))\n",
    "    print()"
   ]
  },
  {
   "cell_type": "markdown",
   "metadata": {},
   "source": [
    "## Import to AMICI\n",
    "\n",
    "The SBML core model can be import by AMICI:"
   ]
  },
  {
   "cell_type": "code",
   "execution_count": null,
   "metadata": {},
   "outputs": [],
   "source": [
    "from amici.sbml_import import SbmlImporter, assignmentRules2observables\n",
    "\n",
    "amici_model_name = model.id\n",
    "amici_model_dir = f\"tmp/{amici_model_name}\"\n",
    "\n",
    "sbml_importer = SbmlImporter(core_model_name)\n",
    "observables = assignmentRules2observables(\n",
    "    sbml_importer.sbml,\n",
    "    lambda parameter: parameter.getId().startswith(\"observable_\"),\n",
    ")\n",
    "# strip 'observable_' prefix\n",
    "observables = {\n",
    "    k[len(\"observable_\") :]: v\n",
    "    for k, v in observables.items()\n",
    "    if k.startswith(\"observable_\")\n",
    "}\n",
    "\n",
    "sbml_importer.sbml2amici(\n",
    "    model_name=amici_model_name,\n",
    "    output_dir=amici_model_dir,\n",
    "    verbose=False,\n",
    "    observables=observables,\n",
    ")"
   ]
  },
  {
   "cell_type": "code",
   "execution_count": null,
   "metadata": {},
   "outputs": [],
   "source": [
    "pprint(observables)"
   ]
  },
  {
   "cell_type": "markdown",
   "metadata": {},
   "source": [
    "## Simulate the model"
   ]
  },
  {
   "cell_type": "code",
   "execution_count": null,
   "metadata": {},
   "outputs": [],
   "source": [
    "import amici\n",
    "from pprint import pprint\n",
    "\n",
    "model_module = amici.import_model_module(\n",
    "    amici_model_name, module_path=amici_model_dir\n",
    ")\n",
    "amici_model = model_module.getModel()\n",
    "\n",
    "print(\"Parameters:\")\n",
    "pprint(amici_model.getParameterIds())\n",
    "print(\"States:\")\n",
    "pprint(amici_model.getStateIds())\n",
    "print(\"Obsevables:\")\n",
    "pprint(amici_model.getObservableIds())"
   ]
  },
  {
   "cell_type": "code",
   "execution_count": null,
   "metadata": {},
   "outputs": [],
   "source": [
    "# Set model parameters\n",
    "amici_model.setParametersByIdRegex(\".*\", 1.0)\n",
    "amici_model.setParameterById(\"k_eq_R1\", 0.0001)\n",
    "amici_model.setParameterById(\"k_eq_R2\", 1)\n",
    "amici_model.setParameterById(\"k_r_v_R1\", 0.01)\n",
    "amici_model.setParameterById(\"k_r_v_R2\", 0.001)\n",
    "\n",
    "amici_model.setTimepoints(list(range(1500)))\n",
    "solver = amici_model.getSolver()\n",
    "rdata = amici.runAmiciSimulation(amici_model, solver)\n",
    "\n",
    "# Visualize isotopologue trajectories for each labeled metabolite\n",
    "from amici.plotting import plot_state_trajectories, plot_observable_trajectories\n",
    "\n",
    "for metabolite in \"ABC\":\n",
    "    state_indices = [\n",
    "        i\n",
    "        for i, name in enumerate(amici_model.getStateNames())\n",
    "        if name.startswith(f\"{metabolite} in \")\n",
    "    ]\n",
    "    plot_state_trajectories(\n",
    "        rdata, model=amici_model, state_indices=state_indices\n",
    "    )\n",
    "    plt.title(f\"State trajectories - {metabolite}\")"
   ]
  },
  {
   "cell_type": "code",
   "execution_count": null,
   "metadata": {},
   "outputs": [],
   "source": [
    "# Visualize observable MDVs, corrected for natural isotope abundance and uncorrected\n",
    "plot_observable_trajectories(\n",
    "    rdata,\n",
    "    model=amici_model,\n",
    "    observable_indices=[\n",
    "        i\n",
    "        for i, n in enumerate(amici_model.getObservableIds())\n",
    "        if n.startswith(\"mdv_A_\")\n",
    "    ],\n",
    ")\n",
    "plt.ylabel(\"Relative abundance\")\n",
    "plt.title(\"Corrected MDV\");"
   ]
  },
  {
   "cell_type": "code",
   "execution_count": null,
   "metadata": {},
   "outputs": [],
   "source": [
    "plot_observable_trajectories(\n",
    "    rdata,\n",
    "    model=amici_model,\n",
    "    observable_indices=[\n",
    "        i\n",
    "        for i, n in enumerate(amici_model.getObservableIds())\n",
    "        if n.startswith(\"mdv_raw_A\")\n",
    "    ],\n",
    ")\n",
    "plt.ylabel(\"Intensity\")\n",
    "plt.title(\"Raw MDV\");"
   ]
  },
  {
   "cell_type": "code",
   "execution_count": null,
   "metadata": {},
   "outputs": [],
   "source": [
    "# Verify that corrected and raw observables match\n",
    "mid_corrected = np.vstack(\n",
    "    [\n",
    "        rdata.by_id(f\"mdv_A_M{i}\")\n",
    "        for i in range(model[\"observable_mdv_A\"].max_labels + 1)\n",
    "    ]\n",
    ")\n",
    "mid_raw = np.vstack(\n",
    "    [\n",
    "        rdata.by_id(f\"mdv_raw_A_174_M{i}\")\n",
    "        for i in range(model[\"observable_mdv_raw_A\"].num_measurements)\n",
    "    ]\n",
    ")\n",
    "corr = model[\"observable_mdv_raw_A\"].get_correction_matrix()\n",
    "assert np.all(\n",
    "    np.abs(\n",
    "        np.dot(corr, mid_corrected[:, -1])\n",
    "        - mid_raw[:, -1] / np.sum(mid_raw[:, -1])\n",
    "        < 1e-2\n",
    "    )\n",
    ")"
   ]
  },
  {
   "cell_type": "code",
   "execution_count": null,
   "metadata": {},
   "outputs": [],
   "source": [
    "# Check that corrected observables match expectations\n",
    "m0 = rdata.by_id(\"A_c_C1_u_C2_u_C3_u\")[-1]\n",
    "m1 = (\n",
    "    rdata.by_id(\"A_c_C1_u_C2_u_C3_l\")[-1]\n",
    "    + rdata.by_id(\"A_c_C1_l_C2_u_C3_u\")[-1]\n",
    "    + rdata.by_id(\"A_c_C1_u_C2_l_C3_u\")[-1]\n",
    ")\n",
    "m2 = (\n",
    "    rdata.by_id(\"A_c_C1_l_C2_l_C3_u\")[-1]\n",
    "    + rdata.by_id(\"A_c_C1_u_C2_l_C3_l\")[-1]\n",
    "    + rdata.by_id(\"A_c_C1_l_C2_u_C3_l\")[-1]\n",
    ")\n",
    "m3 = rdata.by_id(\"A_c_C1_l_C2_l_C3_l\")[-1]\n",
    "total = m0 + m1 + m2 + m3\n",
    "\n",
    "from numpy.testing import assert_array_almost_equal_nulp\n",
    "\n",
    "assert_array_almost_equal_nulp(m0 / total, mid_corrected[0, -1])\n",
    "assert_array_almost_equal_nulp(m1 / total, mid_corrected[1, -1])\n",
    "assert_array_almost_equal_nulp(m2 / total, mid_corrected[2, -1])\n",
    "assert_array_almost_equal_nulp(m3 / total, mid_corrected[3, -1])"
   ]
  }
 ],
 "metadata": {
  "kernelspec": {
   "display_name": "Python 3",
   "language": "python",
   "name": "python3"
  },
  "language_info": {
   "codemirror_mode": {
    "name": "ipython",
    "version": 3
   },
   "file_extension": ".py",
   "mimetype": "text/x-python",
   "name": "python",
   "nbconvert_exporter": "python",
   "pygments_lexer": "ipython3",
   "version": "3.10.7"
  },
  "toc": {
   "base_numbering": 1,
   "nav_menu": {},
   "number_sections": true,
   "sideBar": true,
   "skip_h1_title": false,
   "title_cell": "Table of Contents",
   "title_sidebar": "Contents",
   "toc_cell": false,
   "toc_position": {},
   "toc_section_display": true,
   "toc_window_display": false
  }
 },
 "nbformat": 4,
 "nbformat_minor": 1
}
