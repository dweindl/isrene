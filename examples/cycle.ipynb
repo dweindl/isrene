{
 "cells": [
  {
   "cell_type": "markdown",
   "metadata": {
    "collapsed": true,
    "pycharm": {
     "name": "#%% md\n"
    }
   },
   "source": [
    "# Example ➊➋➌ <-> ➋➌➊ <-> ➌➊➋ <-> ➊➋➌\n",
    "\n",
    "*Objective:* Demonstrate state transfer where substrates and products overlap.\n",
    "\n",
    "The model has a three-carbon compound and a reversible reaction that moves the first atom to the last position. At equilibrium, all labeling states should exist at the same concentration.\n",
    "\n",
    "Reactions:\n",
    "    ➊➋➌ <-> ➋➌➊ <-> ➌➊➋ <-> ➊➋➌\n",
    "\n",
    "## Model definition"
   ]
  },
  {
   "cell_type": "code",
   "execution_count": null,
   "metadata": {
    "pycharm": {
     "name": "#%%\n"
    },
    "is_executing": true
   },
   "outputs": [],
   "source": [
    "from isrene.model_definition import *\n",
    "from isrene import ureg, Q_\n",
    "from isrene.model_definition.model_export_sbml import ModelExporterSbmlMulti\n",
    "from isrene.sbml_multi.sbml_multi_expand import NetworkGenerator\n",
    "\n",
    "import numpy as np"
   ]
  },
  {
   "cell_type": "code",
   "execution_count": null,
   "metadata": {
    "pycharm": {
     "name": "#%%\n"
    },
    "is_executing": true
   },
   "outputs": [],
   "source": [
    "# Create the model\n",
    "model = Model(\"cycle\")\n",
    "\n",
    "compartment = Compartment(\"C\", ureg.Quantity(1, ureg.mL), 3, model=model)\n",
    "\n",
    "S = Metabolite(\"S\", num_labelable_carbons=3, model=model)\n",
    "\n",
    "AtomMappingReaction(\n",
    "    \"abc_bca\",\n",
    "    [(S(compartment=compartment), \"abc\")],\n",
    "    [(S(compartment=compartment), \"bca\")],\n",
    "    reversible=True,\n",
    "    rate_law_generator=MassActionRateLawGenerator(),\n",
    ")\n",
    "\n",
    "InitialConcentration(\n",
    "    S({\"C1\": \"l\", \"C2\": \"u\", \"C3\": \"u\"}, compartment=compartment),\n",
    "    Q_(1.0, ureg.mM),\n",
    ");"
   ]
  },
  {
   "cell_type": "markdown",
   "metadata": {
    "pycharm": {
     "name": "#%% md\n"
    }
   },
   "source": [
    "## Write model to SBML multi and expand to SBML core"
   ]
  },
  {
   "cell_type": "code",
   "execution_count": null,
   "metadata": {
    "pycharm": {
     "name": "#%%\n"
    },
    "is_executing": true
   },
   "outputs": [],
   "source": [
    "# write SBML multi\n",
    "multi_file = f\"tmp/{model.id}_multi.xml\"\n",
    "exporter = ModelExporterSbmlMulti(model)\n",
    "exporter.export(multi_file)\n",
    "\n",
    "from IPython.display import display, Markdown\n",
    "from pathlib import Path\n",
    "# from IPython.display import Code\n",
    "\n",
    "# Code(Path(multi_file).read_text(), language='xml')\n",
    "\n",
    "display(Markdown(f\"```xml\\n{Path(multi_file).read_text()}\\n```\"))"
   ]
  },
  {
   "cell_type": "code",
   "execution_count": null,
   "metadata": {
    "is_executing": true
   },
   "outputs": [],
   "source": [
    "# expand network and save SBML core model\n",
    "core_model_name = f\"tmp/{model.id}_core.xml\"\n",
    "nwg = NetworkGenerator(model=multi_file)\n",
    "nwg.create_sbml_core_model(core_model_name)"
   ]
  },
  {
   "cell_type": "code",
   "execution_count": null,
   "outputs": [],
   "source": [
    "import libsbml\n",
    "sbml_doc = libsbml.SBMLReader().readSBMLFromFile(core_model_name)\n",
    "sbml_model = sbml_doc.getModel()\n",
    "print(\"Species in core model:\", [s.getId() for s in sbml_model.getListOfSpecies()])"
   ],
   "metadata": {
    "collapsed": false,
    "is_executing": true
   }
  },
  {
   "cell_type": "markdown",
   "metadata": {},
   "source": [
    "## Import to AMICI"
   ]
  },
  {
   "cell_type": "code",
   "execution_count": null,
   "metadata": {
    "pycharm": {
     "name": "#%%\n"
    },
    "is_executing": true
   },
   "outputs": [],
   "source": [
    "from amici.sbml_import import SbmlImporter\n",
    "\n",
    "amici_model_name = model.id\n",
    "amici_model_dir = f\"tmp/{amici_model_name}\"\n",
    "\n",
    "SbmlImporter(core_model_name).sbml2amici(\n",
    "    model_name=amici_model_name, output_dir=amici_model_dir, verbose=False\n",
    ")"
   ]
  },
  {
   "cell_type": "markdown",
   "metadata": {
    "pycharm": {
     "name": "#%% md\n"
    }
   },
   "source": [
    "## Simulate model"
   ]
  },
  {
   "cell_type": "code",
   "execution_count": null,
   "metadata": {
    "pycharm": {
     "name": "#%%\n"
    },
    "is_executing": true
   },
   "outputs": [],
   "source": [
    "import amici\n",
    "\n",
    "model_module = amici.import_model_module(\n",
    "    amici_model_name, module_path=amici_model_dir\n",
    ")\n",
    "amici_model = model_module.getModel()\n",
    "\n",
    "print(amici_model.getParameterIds())"
   ]
  },
  {
   "cell_type": "code",
   "execution_count": null,
   "metadata": {
    "pycharm": {
     "name": "#%%\n"
    },
    "is_executing": true
   },
   "outputs": [],
   "source": [
    "# Set model parameters\n",
    "amici_model.setParametersByIdRegex(\".*\", 1.0)\n",
    "amici_model.setParameterById(\"kf_abc_bca\", 5e-3)\n",
    "\n",
    "amici_model.setTimepoints(list(range(1000)))\n",
    "solver = amici_model.getSolver()\n",
    "rdata = amici.runAmiciSimulation(amici_model, solver)\n",
    "\n",
    "from amici.plotting import plot_state_trajectories\n",
    "\n",
    "plot_state_trajectories(rdata, model=amici_model)"
   ]
  },
  {
   "cell_type": "code",
   "execution_count": null,
   "metadata": {
    "pycharm": {
     "name": "#%%\n"
    },
    "is_executing": true
   },
   "outputs": [],
   "source": [
    "# total amount is conserved\n",
    "assert np.isclose(\n",
    "    1,\n",
    "    rdata.by_id(\"S_C_C1_l_C2_u_C3_u\")\n",
    "    + rdata.by_id(\"S_C_C1_u_C2_l_C3_u\")\n",
    "    + rdata.by_id(\"S_C_C1_u_C2_u_C3_l\"),\n",
    ").all()"
   ]
  },
  {
   "cell_type": "code",
   "execution_count": null,
   "metadata": {
    "is_executing": true
   },
   "outputs": [],
   "source": [
    "# at steadystate, all concentrations are the same\n",
    "assert np.isclose(\n",
    "    rdata.by_id(\"S_C_C1_l_C2_u_C3_u\")[-1],\n",
    "    rdata.by_id(\"S_C_C1_u_C2_l_C3_u\")[-1],\n",
    "    rtol=1e-6,\n",
    ")\n",
    "assert np.isclose(\n",
    "    rdata.by_id(\"S_C_C1_l_C2_u_C3_u\")[-1],\n",
    "    rdata.by_id(\"S_C_C1_u_C2_u_C3_l\")[-1],\n",
    "    rtol=1e-6,\n",
    ")"
   ]
  },
  {
   "cell_type": "code",
   "execution_count": null,
   "outputs": [],
   "source": [],
   "metadata": {
    "collapsed": false,
    "is_executing": true
   }
  },
  {
   "cell_type": "code",
   "execution_count": null,
   "outputs": [],
   "source": [],
   "metadata": {
    "collapsed": false,
    "is_executing": true
   }
  }
 ],
 "metadata": {
  "kernelspec": {
   "display_name": "Python 3",
   "language": "python",
   "name": "python3"
  },
  "language_info": {
   "codemirror_mode": {
    "name": "ipython",
    "version": 3
   },
   "file_extension": ".py",
   "mimetype": "text/x-python",
   "name": "python",
   "nbconvert_exporter": "python",
   "pygments_lexer": "ipython3",
   "version": "3.10.7"
  },
  "toc": {
   "base_numbering": 1,
   "nav_menu": {},
   "number_sections": true,
   "sideBar": true,
   "skip_h1_title": false,
   "title_cell": "Table of Contents",
   "title_sidebar": "Contents",
   "toc_cell": false,
   "toc_position": {},
   "toc_section_display": true,
   "toc_window_display": false
  }
 },
 "nbformat": 4,
 "nbformat_minor": 1
}
