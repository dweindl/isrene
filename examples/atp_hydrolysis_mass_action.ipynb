{
 "cells": [
  {
   "cell_type": "markdown",
   "metadata": {
    "collapsed": true
   },
   "source": [
    "# Example model ATP hydrolysis\n",
    "\n",
    "Objective: Create a simple model of spontaneous ATP hydrolysis using mass action kinetics, independent of any isotope labeling.\n",
    "\n",
    "## Model definition"
   ]
  },
  {
   "cell_type": "code",
   "execution_count": null,
   "metadata": {},
   "outputs": [],
   "source": [
    "from isrene.model_definition import *\n",
    "from isrene import ureg, Q_\n",
    "from isrene.model_definition.model_export_sbml import ModelExporterSbmlMulti\n",
    "from isrene.sbml_multi.sbml_multi_expand import NetworkGenerator\n",
    "from pprint import pprint"
   ]
  },
  {
   "cell_type": "code",
   "execution_count": null,
   "metadata": {},
   "outputs": [],
   "source": [
    "# Create a Model as container for all model components\n",
    "model = Model(\"atp_hydrolysis\")\n",
    "\n",
    "# Create a 3D compartment\n",
    "compartment = Compartment(\"C\", ureg.Quantity(1, ureg.mL), 3, model=model)\n",
    "\n",
    "# Create SpeciesTypes for all metabolites\n",
    "ATP = SpeciesType(\"ATP\", model=model)\n",
    "ADP = SpeciesType(\"ADP\", model=model)\n",
    "P = SpeciesType(\"P\", model=model)\n",
    "H2O = SpeciesType(\"H2O\", model=model)\n",
    "\n",
    "# ignore H2O concentration in rate expressions\n",
    "model.ignored_reactants = {H2O}\n",
    "\n",
    "AtomMappingReaction(\n",
    "    \"hydrolysis\",\n",
    "    [ATP(compartment=compartment), H2O(compartment=compartment)],\n",
    "    [ADP(compartment=compartment), P(compartment=compartment)],\n",
    "    reversible=True,\n",
    "    rate_law_generator=MassActionRateLawGenerator(),\n",
    ")\n",
    "\n",
    "InitialConcentration(ATP(compartment=compartment), Q_(1.0, ureg.mM))\n",
    "InitialConcentration(ADP(compartment=compartment), Q_(1.0, ureg.mM))\n",
    "InitialConcentration(P(compartment=compartment), Q_(1.0, ureg.mM))\n",
    "InitialConcentration(\n",
    "    H2O(compartment=compartment), Q_(1.0, ureg.mM), constant=True\n",
    ");"
   ]
  },
  {
   "cell_type": "markdown",
   "metadata": {},
   "source": [
    "## Write model to SBML multi and expand to SBML core"
   ]
  },
  {
   "cell_type": "code",
   "execution_count": null,
   "metadata": {},
   "outputs": [],
   "source": [
    "# write SBML multi\n",
    "multi_file = \"tmp/atp_hydrolysis_multi_ma.xml\"\n",
    "exporter = ModelExporterSbmlMulti(model)\n",
    "exporter.export(multi_file)\n",
    "\n",
    "# expand network and save SBML core model\n",
    "core_model_name = \"tmp/atp_hydrolysis_core_ma.xml\"\n",
    "nwg = NetworkGenerator(model=multi_file)\n",
    "nwg.create_sbml_core_model(core_model_name)"
   ]
  },
  {
   "cell_type": "markdown",
   "metadata": {},
   "source": [
    "## Import to AMICI"
   ]
  },
  {
   "cell_type": "code",
   "execution_count": null,
   "metadata": {},
   "outputs": [],
   "source": [
    "from amici.sbml_import import SbmlImporter\n",
    "\n",
    "model_name = \"atp_hydrolysis_model_ma\"\n",
    "output_dir = f\"tmp/{model_name}\"\n",
    "\n",
    "SbmlImporter(core_model_name).sbml2amici(\n",
    "    model_name=model_name, output_dir=output_dir, verbose=False\n",
    ")"
   ]
  },
  {
   "cell_type": "markdown",
   "metadata": {},
   "source": [
    "## Simulate model"
   ]
  },
  {
   "cell_type": "code",
   "execution_count": null,
   "metadata": {},
   "outputs": [],
   "source": [
    "import amici\n",
    "\n",
    "model_module = amici.import_model_module(model_name, module_path=output_dir)\n",
    "amici_model = model_module.getModel()\n",
    "\n",
    "pprint(amici_model.getParameterIds())"
   ]
  },
  {
   "cell_type": "code",
   "execution_count": null,
   "metadata": {},
   "outputs": [],
   "source": [
    "# Set model parameters\n",
    "amici_model.setParametersByIdRegex(\".*\", 1.0)\n",
    "amici_model.setParameterById(\"ATP_C_C_initial_concentration\", 0.9)\n",
    "amici_model.setParameterById(\"ADP_C_C_initial_concentration\", 0.2)\n",
    "amici_model.setParameterById(\"P_C_C_initial_concentration\", 1.1)\n",
    "amici_model.setParameterById(\"H2O_C_C_initial_concentration\", 1.0)\n",
    "amici_model.setParameterById(\"kf_hydrolysis\", 0.1)\n",
    "amici_model.setParameterById(\"k_eq_hydrolysis\", 1e5)\n",
    "\n",
    "amici_model.setTimepoints(list(range(1000)))\n",
    "solver = amici_model.getSolver()\n",
    "rdata = amici.runAmiciSimulation(amici_model, solver)\n",
    "\n",
    "from amici.plotting import plot_state_trajectories\n",
    "\n",
    "plot_state_trajectories(rdata, model=amici_model)\n",
    "# print(amici.getSimulationStatesAsDataFrame(amici_model, edata_list=[],\n",
    "#                                           rdata_list=[rdata]))\n",
    "\n",
    "idx_atp = list(amici_model.getStateIds()).index(\"ATP_C\")\n",
    "idx_adp = list(amici_model.getStateIds()).index(\"ADP_C\")\n",
    "\n",
    "assert rdata.x[-1, idx_atp] < rdata.x[-1, idx_adp]"
   ]
  },
  {
   "cell_type": "code",
   "execution_count": null,
   "metadata": {},
   "outputs": [],
   "source": [
    "# Check that the steadystate matches the given equilibrium constant.\n",
    "\n",
    "# The model uses concentrations in mM, but we assume equilibrium constants are computed from concentrations in M.\n",
    "# mM -> M\n",
    "conv = 1 / 1000\n",
    "keq_apparent = (\n",
    "    (conv * rdata.by_id(\"ADP_C\") * conv * rdata.by_id(\"P_C\"))\n",
    "    / (conv * rdata.by_id(\"ATP_C\"))\n",
    ")[-1]\n",
    "keq_expected = amici_model.getParameterById(\"k_eq_hydrolysis\")\n",
    "print(f\"{keq_apparent=:.1f}\\n{keq_expected=:.1f}\")\n",
    "\n",
    "assert (keq_expected - keq_apparent) / keq_expected < 0.01"
   ]
  }
 ],
 "metadata": {
  "kernelspec": {
   "display_name": "Python 3",
   "language": "python",
   "name": "python3"
  },
  "language_info": {
   "codemirror_mode": {
    "name": "ipython",
    "version": 3
   },
   "file_extension": ".py",
   "mimetype": "text/x-python",
   "name": "python",
   "nbconvert_exporter": "python",
   "pygments_lexer": "ipython3",
   "version": "3.10.7"
  },
  "toc": {
   "base_numbering": 1,
   "nav_menu": {},
   "number_sections": true,
   "sideBar": true,
   "skip_h1_title": false,
   "title_cell": "Table of Contents",
   "title_sidebar": "Contents",
   "toc_cell": false,
   "toc_position": {},
   "toc_section_display": true,
   "toc_window_display": false
  }
 },
 "nbformat": 4,
 "nbformat_minor": 1
}
